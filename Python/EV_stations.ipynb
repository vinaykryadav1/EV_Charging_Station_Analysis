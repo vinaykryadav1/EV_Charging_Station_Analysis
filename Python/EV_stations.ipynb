{
 "cells": [
  {
   "cell_type": "code",
   "execution_count": null,
   "metadata": {},
   "outputs": [],
   "source": [
    "import pandas as pd\n",
    "import numpy as np\n",
    "import matplotlib.pyplot as plt\n",
    "import seaborn as sns\n",
    "%matplotlib inline\n"
   ]
  },
  {
   "cell_type": "code",
   "execution_count": null,
   "metadata": {},
   "outputs": [],
   "source": [
    "# Load the data from the CSV file\n",
    "data = pd.read_csv('EV_Stations_(65 C).csv')\n",
    "data.head(1)"
   ]
  },
  {
   "cell_type": "code",
   "execution_count": null,
   "metadata": {},
   "outputs": [],
   "source": [
    "print('}---------------DataFrame Overview--------------->>') \n",
    "print(f'------------------(Rows,Columns){data.shape}-----------------------,{data.info()}')"
   ]
  },
  {
   "cell_type": "code",
   "execution_count": null,
   "metadata": {},
   "outputs": [],
   "source": [
    "print('}-----------Summary Statistics for EVSE Levels-------------->') \n",
    "data[['EV Level1 EVSE Num', 'EV Level2 EVSE Num','EV DC Fast Count']].describe()\n"
   ]
  },
  {
   "cell_type": "code",
   "execution_count": null,
   "metadata": {},
   "outputs": [],
   "source": [
    "print('Count of Duplicate IDs in the Dataset')\n",
    "data['ID'].duplicated().sum()"
   ]
  },
  {
   "cell_type": "code",
   "execution_count": null,
   "metadata": {},
   "outputs": [],
   "source": [
    "print('---- List of Column Names in the Dataset ----')\n",
    "data.columns"
   ]
  },
  {
   "cell_type": "code",
   "execution_count": null,
   "metadata": {},
   "outputs": [],
   "source": [
    "print('---- Count of Missing Values in Each Column ----')\n",
    "missing_values_df = data.isnull().sum().reset_index()\n",
    "missing_values_df.columns = ['Column Name', 'Count']\n",
    "missing_values_df"
   ]
  },
  {
   "cell_type": "code",
   "execution_count": null,
   "metadata": {},
   "outputs": [],
   "source": [
    "# Keep only electric stations\n",
    "data = data[data['Fuel Type Code'] == 'ELEC']\n",
    "\n",
    "# Drop columns with more than 95% missing data\n",
    "threshold = len(data) * 0.05\n",
    "data = data.dropna(thresh=threshold, axis=1)\n",
    "\n",
    "# Convert dates to datetime\n",
    "data['Open Date'] = pd.to_datetime(data['Open Date'], errors='coerce')\n",
    "data['Updated At'] = pd.to_datetime(data['Updated At'], errors='coerce')\n"
   ]
  },
  {
   "cell_type": "code",
   "execution_count": null,
   "metadata": {},
   "outputs": [],
   "source": [
    "print('------ Filling Missing Values in Selected Columns -----')\n",
    "data['EV Pricing'].fillna('Unknown',inplace=True)\n",
    "data['EV Network'].fillna('Unknown',inplace=True)\n",
    "data['EV Level1 EVSE Num'].fillna(np.mean(data['EV Level1 EVSE Num']),inplace=True)\n",
    "data['EV Level2 EVSE Num'].fillna(np.mean(data['EV Level2 EVSE Num']),inplace=True)\n",
    "data['EV DC Fast Count'].fillna(np.mean(data['EV DC Fast Count']),inplace=True)\n",
    "data['Federal Agency ID'] = data['Federal Agency ID'].fillna('1',inplace=True)\n",
    "data.loc[data['Federal Agency ID'] == '1', 'Federal Agency Name'] = 'Unknown'"
   ]
  },
  {
   "cell_type": "code",
   "execution_count": null,
   "metadata": {},
   "outputs": [],
   "source": [
    "data['State'].value_counts().head(10).plot(kind='bar', title='Top 10 States by Number of EV Stations')"
   ]
  },
  {
   "cell_type": "code",
   "execution_count": null,
   "metadata": {},
   "outputs": [],
   "source": [
    "state_CA = data[data['State']=='CA']\n",
    "CA_City = state_CA['City'].value_counts().reset_index().head(10)\n",
    "CA_City.columns = ['City', 'Count']\n",
    "sns.barplot(x='City', y = 'Count' ,data=CA_City, palette='pastel')\n",
    "plt.title('Top 10 Cities with Most EV Stations in California')\n",
    "plt.xticks(rotation=45)  \n",
    "plt.show()"
   ]
  },
  {
   "cell_type": "code",
   "execution_count": null,
   "metadata": {},
   "outputs": [],
   "source": [
    "data['Open Date'].dt.year.value_counts().sort_index().plot(kind='bar', figsize=(10,5), title='EV Stations Opened by Year')"
   ]
  },
  {
   "cell_type": "code",
   "execution_count": null,
   "metadata": {},
   "outputs": [],
   "source": [
    "fig = plt.figure(figsize=(10,8))\n",
    "#station = data['Station Name'].value_counts().head(10)\n",
    "station_df = data['Station Name'].value_counts().reset_index().head(10)\n",
    "station_df.columns = ['Station Name','Count']\n",
    "sns.displot(data = station_df, x = 'Station Name',y = 'Count')\n",
    "plt.xticks(rotation=45)\n",
    "plt.title(\"Top 10 Most Common EV Stations\")\n",
    "plt.show()"
   ]
  },
  {
   "cell_type": "code",
   "execution_count": null,
   "metadata": {},
   "outputs": [],
   "source": [
    "Network = data['EV Network'].value_counts().head(10)\n",
    "plt.figure(figsize=(8,6))\n",
    "plt.barh(Network.index,Network.values, color = 'darkblue')\n",
    "plt.gca().invert_yaxis()\n",
    "plt.title(\"Top 10 EV Network\")\n",
    "plt.show()"
   ]
  },
  {
   "cell_type": "code",
   "execution_count": null,
   "metadata": {},
   "outputs": [],
   "source": [
    "fig, ax = plt.subplots()\n",
    "#Access = data['Access Code'].value_counts()\n",
    "Access_df = data['Access Code'].value_counts().reset_index()\n",
    "Access_df.columns = ['Sector','Count']\n",
    "ax.bar(Access_df['Sector'],Access_df['Count']  , color = 'green')\n",
    "ax.set_title(\"Access Code Distribution\")\n",
    "plt.show()"
   ]
  },
  {
   "cell_type": "code",
   "execution_count": null,
   "metadata": {},
   "outputs": [],
   "source": [
    "#Facility = data['Facility Type'].value_counts().head(10)\n",
    "Facility_df = data['Facility Type'].value_counts().reset_index().head(10)\n",
    "Facility_df.columns = ['Facility','Count']\n",
    "sns.barplot(data = Facility_df,x = 'Facility',y = 'Count',palette='coolwarm')\n",
    "plt.title(\"Top 10 Facility Types\")\n",
    "plt.xticks(rotation=45)\n",
    "plt.show()"
   ]
  },
  {
   "cell_type": "code",
   "execution_count": null,
   "metadata": {},
   "outputs": [],
   "source": [
    "print(\"---- Updating EV Pricing: Marking Non-Free/Unknown as Chargeable ----\")\n",
    "data.loc[~data['EV Pricing'].isin(['Free', 'Unknown']), 'EV Pricing'] = 'Chargeable'\n",
    "\n",
    "print(data['EV Pricing'].value_counts())\n"
   ]
  },
  {
   "cell_type": "code",
   "execution_count": null,
   "metadata": {},
   "outputs": [],
   "source": [
    "#Pricing = data['EV Pricing'].value_counts()\n",
    "Pricing_df = data['EV Pricing'].value_counts().reset_index()\n",
    "Pricing_df.columns = ['Pricing','Count']\n",
    "colors = sns.color_palette('muted')[0:4]\n",
    "plt.figure(figsize=(8, 6))\n",
    "plt.pie(Pricing_df['Count'], \n",
    "        labels=Pricing_df['Pricing'],\n",
    "        colors=colors, autopct='%1.1f%%',\n",
    "        startangle=140, wedgeprops={'edgecolor': 'black'},\n",
    "        textprops={'color': 'white', 'fontsize': 12, 'weight': 'bold'}\n",
    "        )\n",
    "plt.title('Distribution of EV Pricing', color = 'white')\n",
    "#plt.tight_layout()\n",
    "plt.show()"
   ]
  },
  {
   "cell_type": "code",
   "execution_count": null,
   "metadata": {},
   "outputs": [],
   "source": [
    "f, ax = plt.subplots(figsize=(20, 10))  \n",
    "\n",
    "state_CA = data[data['State']=='CA']\n",
    "\n",
    "station_CA = state_CA['Station Name'].value_counts().head(10)\n",
    "station_CA_df = station_CA.reset_index()\n",
    "station_CA_df.columns = ['Station Name','Count']\n",
    "\n",
    "sns.lineplot(data=station_CA_df, x=\"Station Name\", y=\"Count\", marker='o', ax=ax)\n",
    "ax.set_title('Station Name Count in CA')\n",
    "ax.set_xlabel('Station Name', fontsize=18)\n",
    "ax.set_ylabel('Count', fontsize=18)\n",
    "#ax.set_xticklabels(station_CA_df['Station Name'], rotation=45)\n",
    "plt.setp(ax.get_xticklabels(), rotation=45, ha='right', fontsize=18)\n",
    "\n",
    "f.tight_layout()\n",
    "plt.show()\n"
   ]
  },
  {
   "cell_type": "code",
   "execution_count": null,
   "metadata": {},
   "outputs": [],
   "source": [
    "# Set a clean theme\n",
    "sns.set_theme(style=\"whitegrid\")\n",
    "\n",
    "# Create figure and axis\n",
    "fig, ax = plt.subplots(figsize=(12, 6))\n",
    "\n",
    "# Filter data for California\n",
    "state_CA = data[data['State'] == 'CA']\n",
    "\n",
    "# Create the scatter plot with customized marker sizes and palette\n",
    "scatter = sns.scatterplot(\n",
    "    data=state_CA,\n",
    "    x='EV Level1 EVSE Num',\n",
    "    y='EV Level2 EVSE Num',\n",
    "    size='EV DC Fast Count',\n",
    "    hue='Status Code',\n",
    "    alpha=0.8,\n",
    "    sizes=(50, 500),      # Adjust marker sizes as needed\n",
    "    palette=\"viridis\",    # Use a visually appealing color palette\n",
    "    ax=ax\n",
    ")\n",
    "\n",
    "# Correct the title and add axis labels\n",
    "ax.set_title('EV Level1 vs EV Level2 in CA (Size represents EV DC Fast Count)', fontsize=14)\n",
    "ax.set_xlabel('EV Level1 EVSE Num', fontsize=12)\n",
    "ax.set_ylabel('EV Level2 EVSE Num', fontsize=12)\n",
    "\n",
    "# Improve the legend: display legend for the hue (Status Code)\n",
    "ax.legend(title=\"Status Code\", loc=\"upper right\", fontsize=10, title_fontsize=12)\n",
    "\n",
    "plt.tight_layout()\n",
    "plt.show()\n"
   ]
  },
  {
   "cell_type": "code",
   "execution_count": null,
   "metadata": {},
   "outputs": [],
   "source": [
    "import folium\n",
    "map_ev = folium.Map(location=[37.0902, -95.7129], zoom_start=5)\n",
    "for _, row in data.iterrows():\n",
    "    folium.CircleMarker([row['Latitude'], row['Longitude']],\n",
    "                        radius=3,\n",
    "                        color='blue').add_to(map_ev)\n",
    "map_ev\n"
   ]
  },
  {
   "cell_type": "code",
   "execution_count": null,
   "metadata": {},
   "outputs": [],
   "source": [
    "# from autoviz.AutoViz_Class import AutoViz_Class\n",
    "# import os\n",
    "\n",
    "# # Define the CSV file path\n",
    "# file_path = \"EV_Stations_(65 C).csv\"\n",
    "\n",
    "# # Check if the file exists before proceeding\n",
    "# if not os.path.exists(file_path):\n",
    "#     raise FileNotFoundError(f\"File not found: {file_path}\")\n",
    "\n",
    "# # Create an instance of AutoViz_Class\n",
    "# av = AutoViz_Class()\n",
    "\n",
    "# report = av.AutoViz(\n",
    "#     file_path,\n",
    "#     sep=\",\",\n",
    "#     depVar=\"\",            # Specify target variable if applicable, or leave empty for exploratory analysis\n",
    "#     dfte=None,            # DataFrame (if already loaded) can be passed here; otherwise, leave as None\n",
    "#     header=0,\n",
    "#     verbose=1,\n",
    "#     lowess=False,         # Set to True if you want to apply lowess smoothing on scatter plots\n",
    "#     chart_format=\"svg\",   # Use \"svg\" for scalable graphics, or \"png\" for bitmap images\n",
    "#     max_rows_analyzed=150000,\n",
    "#     max_cols_analyzed=30\n",
    "# )\n",
    "\n",
    "# print(\"AutoViz report generated successfully!\")\n"
   ]
  }
 ],
 "metadata": {
  "kernelspec": {
   "display_name": "Python 3",
   "language": "python",
   "name": "python3"
  },
  "language_info": {
   "codemirror_mode": {
    "name": "ipython",
    "version": 3
   },
   "file_extension": ".py",
   "mimetype": "text/x-python",
   "name": "python",
   "nbconvert_exporter": "python",
   "pygments_lexer": "ipython3",
   "version": "3.13.1"
  }
 },
 "nbformat": 4,
 "nbformat_minor": 2
}
